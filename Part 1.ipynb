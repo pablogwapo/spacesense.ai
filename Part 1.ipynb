{
  "cells": [
    {
      "cell_type": "markdown",
      "metadata": {
        "id": "_bNSS6o5Ayc1"
      },
      "source": [
        "# Import libraries"
      ]
    },
    {
      "cell_type": "code",
      "execution_count": 1,
      "metadata": {
        "id": "-ahijPyNAwG_"
      },
      "outputs": [
        {
          "name": "stderr",
          "output_type": "stream",
          "text": [
            "2023-03-14 19:52:30.129403: I tensorflow/core/platform/cpu_feature_guard.cc:193] This TensorFlow binary is optimized with oneAPI Deep Neural Network Library (oneDNN) to use the following CPU instructions in performance-critical operations:  SSE4.1 SSE4.2\n",
            "To enable them in other operations, rebuild TensorFlow with the appropriate compiler flags.\n"
          ]
        }
      ],
      "source": [
        "# Manipulate date\n",
        "import pandas as pd \n",
        "import numpy as np\n",
        "# Visualize data \n",
        "import matplotlib.pyplot as plt\n",
        "# Model\n",
        "from sklearn.model_selection import train_test_split\n",
        "import tensorflow as tf\n",
        "from tensorflow import keras\n",
        "from keras import Sequential\n",
        "from tensorflow.keras.models import model_from_json\n",
        "from keras.layers import Dense, Flatten,Conv2D , MaxPool2D, BatchNormalization, GlobalAveragePooling2D, Dropout\n",
        "from tensorflow.keras.preprocessing.image import ImageDataGenerator\n",
        "# Performance metrics\n",
        "from sklearn.metrics import confusion_matrix\n",
        "from tensorflow.keras.preprocessing import image"
      ]
    },
    {
      "attachments": {},
      "cell_type": "markdown",
      "metadata": {},
      "source": [
        "# Train test split"
      ]
    },
    {
      "cell_type": "code",
      "execution_count": 2,
      "metadata": {},
      "outputs": [],
      "source": [
        "# Train data\n",
        "train_data = ImageDataGenerator(\n",
        "    rescale=1./255, # Re-scale pictures from 0 to 1\n",
        "    validation_split=0.2, # Train/test split\n",
        "    rotation_range=10, # Images are randomly rotated up to 10 degrees\n",
        "    shear_range = 0.2, # Images are radomly sheared up to specific value\n",
        "    zoom_range = 0.2, # Images are randomly zoomed up to specific value\n",
        "    horizontal_flip = True,) "
      ]
    },
    {
      "cell_type": "code",
      "execution_count": 3,
      "metadata": {},
      "outputs": [
        {
          "name": "stdout",
          "output_type": "stream",
          "text": [
            "Found 21600 images belonging to 10 classes.\n"
          ]
        }
      ],
      "source": [
        "train_data  = train_data.flow_from_directory(\n",
        "    '/Users/pabloalonsomedrano/Desktop/Eurosat/2750',\n",
        "    target_size=(64,64),\n",
        "    batch_size=200,\n",
        "    class_mode='sparse',\n",
        "    shuffle=True,\n",
        "    seed=42,\n",
        "    subset='training')"
      ]
    },
    {
      "cell_type": "code",
      "execution_count": 4,
      "metadata": {},
      "outputs": [],
      "source": [
        "# Test data\n",
        "test_data = ImageDataGenerator(\n",
        "    rescale=1./255,\n",
        "    validation_split=0.2\n",
        ")"
      ]
    },
    {
      "cell_type": "code",
      "execution_count": 5,
      "metadata": {},
      "outputs": [
        {
          "name": "stdout",
          "output_type": "stream",
          "text": [
            "Found 5400 images belonging to 10 classes.\n"
          ]
        }
      ],
      "source": [
        "test_data = test_data.flow_from_directory(\n",
        "    '/Users/pabloalonsomedrano/Desktop/Eurosat/2750',\n",
        "    target_size=(64,64),\n",
        "    batch_size=200,\n",
        "    class_mode='sparse',\n",
        "    shuffle=True,\n",
        "    seed=42,\n",
        "    subset='validation'\n",
        ")"
      ]
    },
    {
      "attachments": {},
      "cell_type": "markdown",
      "metadata": {},
      "source": [
        "# Model creation\n",
        "\n",
        "A `Convolutional Neural Network` consists of two parts:\n",
        "\n",
        "* `Base` which is used to extract features from an image\n",
        "\n",
        "* `Head` determines the class of the image\n",
        "\n",
        "When creating a model we have two options:\n",
        "\n",
        "1. Transfer learning: uisng a model that has already been built. (VGG16, VGG19, ResNet50)\n",
        "\n",
        "2. Creating a model from scratch. "
      ]
    },
    {
      "attachments": {},
      "cell_type": "markdown",
      "metadata": {},
      "source": [
        "A. `Pre-trained model`"
      ]
    },
    {
      "cell_type": "code",
      "execution_count": 6,
      "metadata": {},
      "outputs": [
        {
          "name": "stderr",
          "output_type": "stream",
          "text": [
            "2023-03-14 19:52:32.855115: I tensorflow/core/platform/cpu_feature_guard.cc:193] This TensorFlow binary is optimized with oneAPI Deep Neural Network Library (oneDNN) to use the following CPU instructions in performance-critical operations:  SSE4.1 SSE4.2\n",
            "To enable them in other operations, rebuild TensorFlow with the appropriate compiler flags.\n"
          ]
        }
      ],
      "source": [
        "# pre-trained model: requires images to be in the shape of (224,224)\n",
        "pretrained_model  = tf.keras.applications.vgg16.VGG16()\n",
        "\n",
        "pretrained_model.trainable = False"
      ]
    },
    {
      "cell_type": "code",
      "execution_count": 7,
      "metadata": {},
      "outputs": [],
      "source": [
        "model_1 = keras.Sequential([\n",
        "    #pre_trained base\n",
        "    pretrained_model,\n",
        "    #Head\n",
        "    Flatten(),\n",
        "    Dense(32, activation='relu'),\n",
        "    Dense(10, activation='sigmoid'),\n",
        "])"
      ]
    },
    {
      "attachments": {},
      "cell_type": "markdown",
      "metadata": {},
      "source": [
        " B. `Model from scratch`\n",
        "\n",
        "`Convolutional Neural Networks` use two type of layers:\n",
        "\n",
        "1. `Conv2D` applies a filter(kernel) to the input images to create a feature map, helping identify patterns in data. \n",
        "\n",
        "* `filters` the number of output filters\n",
        "\n",
        "* `kernel_size` height and widith\n",
        "\n",
        "* `kernel_size` height and widht of the convolutioning window\n",
        "\n",
        "* `stride` distance the window moves at each step in both directions, high quality (1,1)\n",
        "\n",
        "* `padding` what to do at the boundaries of the input.\n",
        "\n",
        "\n",
        "2. `MaxPool2D` condenses the feature maps to enhance the features.\n",
        "\n",
        "* `pool_size` height and width of the pooling wind\n",
        "\n",
        "* Also includes stride and padding"
      ]
    },
    {
      "cell_type": "code",
      "execution_count": 8,
      "metadata": {},
      "outputs": [],
      "source": [
        "# Create the model\n",
        "model = keras.Sequential([\n",
        "\n",
        "    # First Convolutional Block \n",
        "    BatchNormalization(),\n",
        "    Conv2D(filters=32, kernel_size=5, activation=\"relu\", padding='same',\n",
        "                  input_shape=[64,64, 3]), #[height, width, color channels(RGB)]\n",
        "    MaxPool2D(pool_size = 2,strides=5,padding = 'same'),\n",
        "\n",
        "    # Second Convolutional Block\n",
        "    BatchNormalization(),\n",
        "    Conv2D(filters=64, kernel_size=5, activation=\"relu\", padding='same'),\n",
        "    MaxPool2D(pool_size = 2,strides=5,padding = 'same'),\n",
        "\n",
        "    # Classifier Head\n",
        "    Flatten(),\n",
        "    Dense(units=32, activation=\"relu\"),\n",
        "    Dense(units=10, activation=\"softmax\"),\n",
        "])"
      ]
    },
    {
      "cell_type": "code",
      "execution_count": 9,
      "metadata": {},
      "outputs": [],
      "source": [
        "early_stopping = tf.keras.callbacks.EarlyStopping(monitor=\"val_loss\", min_delta=0, \n",
        "                                                  patience=20,restore_best_weights=True)"
      ]
    },
    {
      "cell_type": "code",
      "execution_count": 10,
      "metadata": {},
      "outputs": [],
      "source": [
        "# Compile the model\n",
        "model.compile(\n",
        "    optimizer= 'adam',\n",
        "    loss='sparse_categorical_crossentropy',\n",
        "    metrics=['sparse_categorical_accuracy'],\n",
        ")"
      ]
    },
    {
      "cell_type": "code",
      "execution_count": 11,
      "metadata": {},
      "outputs": [
        {
          "name": "stdout",
          "output_type": "stream",
          "text": [
            "Epoch 1/15\n",
            "108/108 [==============================] - 43s 393ms/step - loss: 1.1672 - sparse_categorical_accuracy: 0.5821 - val_loss: 2.7699 - val_sparse_categorical_accuracy: 0.1172\n",
            "Epoch 2/15\n",
            "108/108 [==============================] - 47s 432ms/step - loss: 0.8433 - sparse_categorical_accuracy: 0.6912 - val_loss: 2.2751 - val_sparse_categorical_accuracy: 0.3030\n",
            "Epoch 3/15\n",
            "108/108 [==============================] - 49s 451ms/step - loss: 0.7289 - sparse_categorical_accuracy: 0.7368 - val_loss: 1.3303 - val_sparse_categorical_accuracy: 0.5020\n",
            "Epoch 4/15\n",
            "108/108 [==============================] - 50s 464ms/step - loss: 0.6688 - sparse_categorical_accuracy: 0.7606 - val_loss: 1.0941 - val_sparse_categorical_accuracy: 0.6206\n",
            "Epoch 5/15\n",
            "108/108 [==============================] - 52s 484ms/step - loss: 0.6223 - sparse_categorical_accuracy: 0.7770 - val_loss: 0.9545 - val_sparse_categorical_accuracy: 0.6941\n",
            "Epoch 6/15\n",
            "108/108 [==============================] - 59s 541ms/step - loss: 0.5846 - sparse_categorical_accuracy: 0.7895 - val_loss: 0.8554 - val_sparse_categorical_accuracy: 0.7304\n",
            "Epoch 7/15\n",
            "108/108 [==============================] - 59s 544ms/step - loss: 0.5874 - sparse_categorical_accuracy: 0.7934 - val_loss: 0.7273 - val_sparse_categorical_accuracy: 0.7578\n",
            "Epoch 8/15\n",
            "108/108 [==============================] - 54s 499ms/step - loss: 0.5420 - sparse_categorical_accuracy: 0.8070 - val_loss: 0.8619 - val_sparse_categorical_accuracy: 0.7270\n",
            "Epoch 9/15\n",
            "108/108 [==============================] - 57s 530ms/step - loss: 0.5365 - sparse_categorical_accuracy: 0.8061 - val_loss: 0.6570 - val_sparse_categorical_accuracy: 0.7781\n",
            "Epoch 10/15\n",
            "108/108 [==============================] - 53s 485ms/step - loss: 0.5222 - sparse_categorical_accuracy: 0.8142 - val_loss: 0.7326 - val_sparse_categorical_accuracy: 0.7669\n",
            "Epoch 11/15\n",
            "108/108 [==============================] - 54s 501ms/step - loss: 0.5073 - sparse_categorical_accuracy: 0.8174 - val_loss: 0.5775 - val_sparse_categorical_accuracy: 0.8119\n",
            "Epoch 12/15\n",
            "108/108 [==============================] - 76s 700ms/step - loss: 0.4906 - sparse_categorical_accuracy: 0.8240 - val_loss: 0.6060 - val_sparse_categorical_accuracy: 0.7946\n",
            "Epoch 13/15\n",
            "108/108 [==============================] - 54s 500ms/step - loss: 0.4707 - sparse_categorical_accuracy: 0.8306 - val_loss: 0.7404 - val_sparse_categorical_accuracy: 0.7637\n",
            "Epoch 14/15\n",
            "108/108 [==============================] - 61s 562ms/step - loss: 0.4660 - sparse_categorical_accuracy: 0.8343 - val_loss: 0.6830 - val_sparse_categorical_accuracy: 0.7737\n",
            "Epoch 15/15\n",
            "108/108 [==============================] - 58s 532ms/step - loss: 0.4535 - sparse_categorical_accuracy: 0.8392 - val_loss: 0.6630 - val_sparse_categorical_accuracy: 0.7817\n"
          ]
        }
      ],
      "source": [
        "history = model.fit(\n",
        "    train_data,\n",
        "    validation_data= [test_data],\n",
        "    epochs=15,\n",
        "    batch_size = 200, \n",
        "    verbose=1,\n",
        ")"
      ]
    },
    {
      "attachments": {},
      "cell_type": "markdown",
      "metadata": {},
      "source": [
        "# Performance"
      ]
    },
    {
      "cell_type": "code",
      "execution_count": 12,
      "metadata": {},
      "outputs": [
        {
          "name": "stdout",
          "output_type": "stream",
          "text": [
            "Minimum validation loss: 0.577491819858551\n"
          ]
        },
        {
          "data": {
            "image/png": "[encoded data removed]",
            "text/plain": [
              "<Figure size 640x480 with 1 Axes>"
            ]
          },
          "metadata": {},
          "output_type": "display_data"
        }
      ],
      "source": [
        "history_df = pd.DataFrame(history.history)\n",
        "history_df.loc[:, ['loss', 'val_loss']].plot();\n",
        "print(\"Minimum validation loss: {}\".format(history_df['val_loss'].min()))"
      ]
    },
    {
      "cell_type": "code",
      "execution_count": 13,
      "metadata": {},
      "outputs": [
        {
          "name": "stdout",
          "output_type": "stream",
          "text": [
            "Maximum accuracy: 0.8118518590927124\n"
          ]
        },
        {
          "data": {
            "image/png": "[encoded data removed]",
            "text/plain": [
              "<Figure size 640x480 with 1 Axes>"
            ]
          },
          "metadata": {},
          "output_type": "display_data"
        }
      ],
      "source": [
        "history_df = pd.DataFrame(history.history)\n",
        "history_df.loc[:, ['sparse_categorical_accuracy', 'val_sparse_categorical_accuracy']].plot();\n",
        "print(\"Maximum accuracy on the Test set: {}\".format(history_df['val_sparse_categorical_accuracy'].max()))"
      ]
    },
    {
      "cell_type": "code",
      "execution_count": 14,
      "metadata": {},
      "outputs": [
        {
          "name": "stderr",
          "output_type": "stream",
          "text": [
            "WARNING:absl:Found untraced functions such as _jit_compiled_convolution_op, _jit_compiled_convolution_op while saving (showing 2 of 2). These functions will not be directly callable after loading.\n"
          ]
        },
        {
          "name": "stdout",
          "output_type": "stream",
          "text": [
            "INFO:tensorflow:Assets written to: my_model/assets\n"
          ]
        },
        {
          "name": "stderr",
          "output_type": "stream",
          "text": [
            "INFO:tensorflow:Assets written to: my_model/assets\n"
          ]
        }
      ],
      "source": [
        "# Save the model\n",
        "model.save(\"my_model\")"
      ]
    }
  ],
  "metadata": {
    "accelerator": "GPU",
    "colab": {
      "provenance": []
    },
    "gpuClass": "standard",
    "kernelspec": {
      "display_name": "Python 3",
      "name": "python3"
    },
    "language_info": {
      "codemirror_mode": {
        "name": "ipython",
        "version": 3
      },
      "file_extension": ".py",
      "mimetype": "text/x-python",
      "name": "python",
      "nbconvert_exporter": "python",
      "pygments_lexer": "ipython3",
      "version": "3.10.9"
    }
  },
  "nbformat": 4,
  "nbformat_minor": 0
}
